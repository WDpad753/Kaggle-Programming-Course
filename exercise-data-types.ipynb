{
 "cells": [
  {
   "cell_type": "markdown",
   "id": "23e665cd",
   "metadata": {
    "papermill": {
     "duration": 0.007576,
     "end_time": "2022-11-01T14:03:31.533649",
     "exception": false,
     "start_time": "2022-11-01T14:03:31.526073",
     "status": "completed"
    },
    "tags": []
   },
   "source": [
    "**This notebook is an exercise in the [Intro to Programming](https://www.kaggle.com/learn/intro-to-programming) course.  You can reference the tutorial at [this link](https://www.kaggle.com/alexisbcook/data-types).**\n",
    "\n",
    "---\n"
   ]
  },
  {
   "cell_type": "markdown",
   "id": "06ddb231",
   "metadata": {
    "papermill": {
     "duration": 0.006161,
     "end_time": "2022-11-01T14:03:31.546370",
     "exception": false,
     "start_time": "2022-11-01T14:03:31.540209",
     "status": "completed"
    },
    "tags": []
   },
   "source": [
    "In the tutorial, you learned about four different data types: floats, integers, strings, and booleans.  In this exercise, you'll experiment with them.\n",
    "\n",
    "# Set up the notebook\n",
    "\n",
    "Run the next code cell without changes to set up the notebook."
   ]
  },
  {
   "cell_type": "code",
   "execution_count": 1,
   "id": "2c0eb9e2",
   "metadata": {
    "execution": {
     "iopub.execute_input": "2022-11-01T14:03:31.561165Z",
     "iopub.status.busy": "2022-11-01T14:03:31.560689Z",
     "iopub.status.idle": "2022-11-01T14:03:31.623933Z",
     "shell.execute_reply": "2022-11-01T14:03:31.622621Z"
    },
    "papermill": {
     "duration": 0.07518,
     "end_time": "2022-11-01T14:03:31.627859",
     "exception": false,
     "start_time": "2022-11-01T14:03:31.552679",
     "status": "completed"
    },
    "tags": []
   },
   "outputs": [
    {
     "name": "stdout",
     "output_type": "stream",
     "text": [
      "Setup complete.\n"
     ]
    }
   ],
   "source": [
    "# Set up the exercise\n",
    "from learntools.core import binder\n",
    "binder.bind(globals())\n",
    "from learntools.intro_to_programming.ex3 import *\n",
    "print('Setup complete.')"
   ]
  },
  {
   "cell_type": "markdown",
   "id": "78fb3b78",
   "metadata": {
    "papermill": {
     "duration": 0.006171,
     "end_time": "2022-11-01T14:03:31.641447",
     "exception": false,
     "start_time": "2022-11-01T14:03:31.635276",
     "status": "completed"
    },
    "tags": []
   },
   "source": [
    "# Question 1\n",
    "\n",
    "You have seen how to convert a float to an integer with the `int` function.  Try this out yourself by running the code cell below."
   ]
  },
  {
   "cell_type": "code",
   "execution_count": 2,
   "id": "e804d16f",
   "metadata": {
    "execution": {
     "iopub.execute_input": "2022-11-01T14:03:31.656641Z",
     "iopub.status.busy": "2022-11-01T14:03:31.655843Z",
     "iopub.status.idle": "2022-11-01T14:03:31.663431Z",
     "shell.execute_reply": "2022-11-01T14:03:31.661994Z"
    },
    "papermill": {
     "duration": 0.01808,
     "end_time": "2022-11-01T14:03:31.665983",
     "exception": false,
     "start_time": "2022-11-01T14:03:31.647903",
     "status": "completed"
    },
    "tags": []
   },
   "outputs": [
    {
     "name": "stdout",
     "output_type": "stream",
     "text": [
      "1.0\n",
      "<class 'float'>\n",
      "1\n",
      "<class 'int'>\n"
     ]
    }
   ],
   "source": [
    "# Define a float\n",
    "y = 1.\n",
    "print(y)\n",
    "print(type(y))\n",
    "\n",
    "# Convert float to integer with the int function\n",
    "z = int(y)\n",
    "print(z)\n",
    "print(type(z))"
   ]
  },
  {
   "cell_type": "markdown",
   "id": "8dcfb6b1",
   "metadata": {
    "papermill": {
     "duration": 0.006197,
     "end_time": "2022-11-01T14:03:31.678710",
     "exception": false,
     "start_time": "2022-11-01T14:03:31.672513",
     "status": "completed"
    },
    "tags": []
   },
   "source": [
    "In this case, the float you are using has no numbers after the decimal.  \n",
    "- But what happens when you try to convert a float with a fractional part to an integer?  \n",
    "- How does the outcome of the `int` function change for positive and negative numbers?\n",
    "\n",
    "Use the next code cell to investigate and answer these questions.  Feel free to add or remove any lines of code -- it is your workspace!"
   ]
  },
  {
   "cell_type": "code",
   "execution_count": 3,
   "id": "04d5139e",
   "metadata": {
    "execution": {
     "iopub.execute_input": "2022-11-01T14:03:31.694229Z",
     "iopub.status.busy": "2022-11-01T14:03:31.692983Z",
     "iopub.status.idle": "2022-11-01T14:03:31.700588Z",
     "shell.execute_reply": "2022-11-01T14:03:31.698794Z"
    },
    "papermill": {
     "duration": 0.018023,
     "end_time": "2022-11-01T14:03:31.703203",
     "exception": false,
     "start_time": "2022-11-01T14:03:31.685180",
     "status": "completed"
    },
    "tags": []
   },
   "outputs": [
    {
     "name": "stdout",
     "output_type": "stream",
     "text": [
      "1\n",
      "1\n",
      "-3\n",
      "-2\n"
     ]
    }
   ],
   "source": [
    "# Uncomment and run this code to get started!\n",
    "print(int(1.2321))\n",
    "print(int(1.747))\n",
    "print(int(-3.94535))\n",
    "print(int(-2.19774))"
   ]
  },
  {
   "cell_type": "markdown",
   "id": "1d08be05",
   "metadata": {
    "papermill": {
     "duration": 0.007856,
     "end_time": "2022-11-01T14:03:31.717671",
     "exception": false,
     "start_time": "2022-11-01T14:03:31.709815",
     "status": "completed"
    },
    "tags": []
   },
   "source": [
    "Once you have an answer, run the code cell below to see the solution.  Viewing the solution will give you credit for answering the problem."
   ]
  },
  {
   "cell_type": "code",
   "execution_count": 4,
   "id": "a233c13d",
   "metadata": {
    "execution": {
     "iopub.execute_input": "2022-11-01T14:03:31.732561Z",
     "iopub.status.busy": "2022-11-01T14:03:31.732117Z",
     "iopub.status.idle": "2022-11-01T14:03:31.744251Z",
     "shell.execute_reply": "2022-11-01T14:03:31.742613Z"
    },
    "papermill": {
     "duration": 0.022946,
     "end_time": "2022-11-01T14:03:31.747213",
     "exception": false,
     "start_time": "2022-11-01T14:03:31.724267",
     "status": "completed"
    },
    "tags": []
   },
   "outputs": [
    {
     "data": {
      "application/javascript": [
       "parent.postMessage({\"jupyterEvent\": \"custom.exercise_interaction\", \"data\": {\"outcomeType\": 1, \"valueTowardsCompletion\": 0.2, \"interactionType\": 1, \"questionType\": 4, \"questionId\": \"1_FloatToInt\", \"learnToolsVersion\": \"0.3.4\", \"failureMessage\": \"\", \"exceptionClass\": \"\", \"trace\": \"\"}}, \"*\")"
      ],
      "text/plain": [
       "<IPython.core.display.Javascript object>"
      ]
     },
     "metadata": {},
     "output_type": "display_data"
    },
    {
     "data": {
      "text/markdown": [
       "<span style=\"color:#33cc33\">Correct:</span> \n",
       "\n",
       "Negative floats are always rounded UP to the closest integer (for instance, both -1.1 and -1.9 are rounded up to -1). Positive floats are always rounded DOWN to the closest integer (for instance, 2.1 and 2.9 are rounded down to 2)."
      ],
      "text/plain": [
       "Correct: \n",
       "\n",
       "Negative floats are always rounded UP to the closest integer (for instance, both -1.1 and -1.9 are rounded up to -1). Positive floats are always rounded DOWN to the closest integer (for instance, 2.1 and 2.9 are rounded down to 2)."
      ]
     },
     "metadata": {},
     "output_type": "display_data"
    }
   ],
   "source": [
    "# Check your answer (Run this code cell to receive credit!)\n",
    "q1.check()"
   ]
  },
  {
   "cell_type": "markdown",
   "id": "712af2a1",
   "metadata": {
    "papermill": {
     "duration": 0.00676,
     "end_time": "2022-11-01T14:03:31.761736",
     "exception": false,
     "start_time": "2022-11-01T14:03:31.754976",
     "status": "completed"
    },
    "tags": []
   },
   "source": [
    "# Question 2\n",
    "\n",
    "In the tutorial, you learned about booleans (which can take a value of `True` or `False`), in addition to integers, floats, and strings.  For this question, your goal is to determine what happens when you multiply a boolean by any of these data types.  Specifically, \n",
    "- What happens when you multiply an integer or float by `True`?  What happens when you multiply them by `False`?  How does the answer change if the numbers are positive or negative?\n",
    "- What happens when you multiply a string by `True`?  By `False`?\n",
    "\n",
    "Use the next code cell for your investigation. "
   ]
  },
  {
   "cell_type": "code",
   "execution_count": 5,
   "id": "331ab27f",
   "metadata": {
    "execution": {
     "iopub.execute_input": "2022-11-01T14:03:31.778301Z",
     "iopub.status.busy": "2022-11-01T14:03:31.777580Z",
     "iopub.status.idle": "2022-11-01T14:03:31.785285Z",
     "shell.execute_reply": "2022-11-01T14:03:31.783806Z"
    },
    "papermill": {
     "duration": 0.019315,
     "end_time": "2022-11-01T14:03:31.788033",
     "exception": false,
     "start_time": "2022-11-01T14:03:31.768718",
     "status": "completed"
    },
    "tags": []
   },
   "outputs": [
    {
     "name": "stdout",
     "output_type": "stream",
     "text": [
      "3\n",
      "-3.1\n",
      "<class 'str'>\n",
      "3\n",
      "<class 'str'>\n",
      "0\n"
     ]
    }
   ],
   "source": [
    "# Uncomment and run this code to get started!\n",
    "print(3 * True)\n",
    "print(-3.1 * True)\n",
    "print(type(\"abc\" * True))\n",
    "print(len(\"abc\" * True))\n",
    "print(type(\"abc\" * False))\n",
    "print(len(\"abc\" * False))"
   ]
  },
  {
   "cell_type": "markdown",
   "id": "e27599f0",
   "metadata": {
    "papermill": {
     "duration": 0.006583,
     "end_time": "2022-11-01T14:03:31.801816",
     "exception": false,
     "start_time": "2022-11-01T14:03:31.795233",
     "status": "completed"
    },
    "tags": []
   },
   "source": [
    "Once you have an answer, run the code cell below to see the solution.  Viewing the solution will give you credit for answering the problem."
   ]
  },
  {
   "cell_type": "code",
   "execution_count": 6,
   "id": "65ea19a9",
   "metadata": {
    "execution": {
     "iopub.execute_input": "2022-11-01T14:03:31.819080Z",
     "iopub.status.busy": "2022-11-01T14:03:31.818639Z",
     "iopub.status.idle": "2022-11-01T14:03:31.826213Z",
     "shell.execute_reply": "2022-11-01T14:03:31.825298Z"
    },
    "papermill": {
     "duration": 0.019724,
     "end_time": "2022-11-01T14:03:31.828376",
     "exception": false,
     "start_time": "2022-11-01T14:03:31.808652",
     "status": "completed"
    },
    "tags": []
   },
   "outputs": [
    {
     "data": {
      "application/javascript": [
       "parent.postMessage({\"jupyterEvent\": \"custom.exercise_interaction\", \"data\": {\"outcomeType\": 1, \"valueTowardsCompletion\": 0.2, \"interactionType\": 1, \"questionType\": 4, \"questionId\": \"2_MultiplyBooleans\", \"learnToolsVersion\": \"0.3.4\", \"failureMessage\": \"\", \"exceptionClass\": \"\", \"trace\": \"\"}}, \"*\")"
      ],
      "text/plain": [
       "<IPython.core.display.Javascript object>"
      ]
     },
     "metadata": {},
     "output_type": "display_data"
    },
    {
     "data": {
      "text/markdown": [
       "<span style=\"color:#33cc33\">Correct:</span> \n",
       "\n",
       "When you multiple an integer or float by a boolean with value `True`, it just returns that same integer or float (and is equivalent to multiplying by 1).  If you multiply an integer or float by a boolean with value `False`, it always returns 0.  This is true for both positive and negative numbers.  If you multiply a string by a boolean with value `True`, it just returns that same string.  And if you multiply a string by a boolean with value `False`, it returns an empty string (or a string with length zero)."
      ],
      "text/plain": [
       "Correct: \n",
       "\n",
       "When you multiple an integer or float by a boolean with value `True`, it just returns that same integer or float (and is equivalent to multiplying by 1).  If you multiply an integer or float by a boolean with value `False`, it always returns 0.  This is true for both positive and negative numbers.  If you multiply a string by a boolean with value `True`, it just returns that same string.  And if you multiply a string by a boolean with value `False`, it returns an empty string (or a string with length zero)."
      ]
     },
     "metadata": {},
     "output_type": "display_data"
    }
   ],
   "source": [
    "# Check your answer (Run this code cell to receive credit!)\n",
    "q2.check()"
   ]
  },
  {
   "cell_type": "markdown",
   "id": "8f15f29e",
   "metadata": {
    "papermill": {
     "duration": 0.006953,
     "end_time": "2022-11-01T14:03:31.842852",
     "exception": false,
     "start_time": "2022-11-01T14:03:31.835899",
     "status": "completed"
    },
    "tags": []
   },
   "source": [
    "# Question 3\n",
    "\n",
    "In this question, you will build off your work from the previous exercise to write a function that estimates the value of a house.\n",
    "\n",
    "Use the next code cell to create a function `get_expected_cost` that takes as input three variables:\n",
    "- `beds` - number of bedrooms (data type float)\n",
    "- `baths` - number of bathrooms (data type float)\n",
    "- `has_basement` - whether or not the house has a basement (data type boolean)\n",
    "\n",
    "It should return the expected cost of a house with those characteristics. Assume that:\n",
    "- the expected cost for a house with 0 bedrooms and 0 bathrooms, and no basement is 80000, \n",
    "- each bedroom adds 30000 to the expected cost,\n",
    "- each bathroom adds 10000 to the expected cost, and\n",
    "- a basement adds 40000 to the expected cost.\n",
    "\n",
    "For instance,\n",
    "- a house with 1 bedroom, 1 bathroom, and no basement has an expected cost of 80000 + 30000 + 10000 = 120000.  This value will be calculated with `get_expected_cost(1, 1, False)`.\n",
    "- a house with 2 bedrooms, 1 bathroom, and a basement has an expected cost of 80000 + 2*30000 + 10000 + 40000 = 190000.  This value will be calculated with `get_expected_cost(2, 1, True)`.\n",
    "\n",
    "Remember you can always get a hint by uncommenting `q3.hint()` in the code cell following the next!"
   ]
  },
  {
   "cell_type": "code",
   "execution_count": 7,
   "id": "2260b8c5",
   "metadata": {
    "execution": {
     "iopub.execute_input": "2022-11-01T14:03:31.860195Z",
     "iopub.status.busy": "2022-11-01T14:03:31.859432Z",
     "iopub.status.idle": "2022-11-01T14:03:31.871772Z",
     "shell.execute_reply": "2022-11-01T14:03:31.870564Z"
    },
    "papermill": {
     "duration": 0.023577,
     "end_time": "2022-11-01T14:03:31.874300",
     "exception": false,
     "start_time": "2022-11-01T14:03:31.850723",
     "status": "completed"
    },
    "tags": []
   },
   "outputs": [
    {
     "data": {
      "application/javascript": [
       "parent.postMessage({\"jupyterEvent\": \"custom.exercise_interaction\", \"data\": {\"outcomeType\": 1, \"valueTowardsCompletion\": 0.2, \"interactionType\": 1, \"questionType\": 2, \"questionId\": \"3_EstimateHouseValueBool\", \"learnToolsVersion\": \"0.3.4\", \"failureMessage\": \"\", \"exceptionClass\": \"\", \"trace\": \"\"}}, \"*\")"
      ],
      "text/plain": [
       "<IPython.core.display.Javascript object>"
      ]
     },
     "metadata": {},
     "output_type": "display_data"
    },
    {
     "data": {
      "text/markdown": [
       "<span style=\"color:#33cc33\">Correct</span>"
      ],
      "text/plain": [
       "Correct"
      ]
     },
     "metadata": {},
     "output_type": "display_data"
    }
   ],
   "source": [
    "# TODO: Complete the function\n",
    "def get_expected_cost(beds, baths, has_basement):\n",
    "    basement = 40000\n",
    "    if (beds == 0 and baths == 0 and has_basement == False):\n",
    "        value = 80000\n",
    "    elif (has_basement == True):\n",
    "        beds_value = beds * 30000\n",
    "        baths_value = baths * 10000\n",
    "        value = 80000 + beds_value + baths_value + basement\n",
    "    elif (has_basement == False):\n",
    "        beds_value = beds * 30000\n",
    "        baths_value = baths * 10000\n",
    "        value = 80000 + beds_value + baths_value\n",
    "    return value\n",
    "\n",
    "# Check your answer \n",
    "q3.check()"
   ]
  },
  {
   "cell_type": "code",
   "execution_count": 8,
   "id": "4cd69592",
   "metadata": {
    "execution": {
     "iopub.execute_input": "2022-11-01T14:03:31.892457Z",
     "iopub.status.busy": "2022-11-01T14:03:31.891760Z",
     "iopub.status.idle": "2022-11-01T14:03:31.905968Z",
     "shell.execute_reply": "2022-11-01T14:03:31.904589Z"
    },
    "papermill": {
     "duration": 0.026124,
     "end_time": "2022-11-01T14:03:31.908536",
     "exception": false,
     "start_time": "2022-11-01T14:03:31.882412",
     "status": "completed"
    },
    "tags": []
   },
   "outputs": [
    {
     "data": {
      "application/javascript": [
       "parent.postMessage({\"jupyterEvent\": \"custom.exercise_interaction\", \"data\": {\"interactionType\": 2, \"questionType\": 2, \"questionId\": \"3_EstimateHouseValueBool\", \"learnToolsVersion\": \"0.3.4\", \"valueTowardsCompletion\": 0.0, \"failureMessage\": \"\", \"exceptionClass\": \"\", \"trace\": \"\", \"outcomeType\": 4}}, \"*\")"
      ],
      "text/plain": [
       "<IPython.core.display.Javascript object>"
      ]
     },
     "metadata": {},
     "output_type": "display_data"
    },
    {
     "data": {
      "text/markdown": [
       "<span style=\"color:#3366cc\">Hint:</span> The variable `has_basement` is either `True` or `False`.  What happens when you multiply it by 40000 (the value of a basement)?  Refer to the previous question if you are unsure."
      ],
      "text/plain": [
       "Hint: The variable `has_basement` is either `True` or `False`.  What happens when you multiply it by 40000 (the value of a basement)?  Refer to the previous question if you are unsure."
      ]
     },
     "metadata": {},
     "output_type": "display_data"
    },
    {
     "data": {
      "application/javascript": [
       "parent.postMessage({\"jupyterEvent\": \"custom.exercise_interaction\", \"data\": {\"interactionType\": 3, \"questionType\": 2, \"questionId\": \"3_EstimateHouseValueBool\", \"learnToolsVersion\": \"0.3.4\", \"valueTowardsCompletion\": 0.0, \"failureMessage\": \"\", \"exceptionClass\": \"\", \"trace\": \"\", \"outcomeType\": 4}}, \"*\")"
      ],
      "text/plain": [
       "<IPython.core.display.Javascript object>"
      ]
     },
     "metadata": {},
     "output_type": "display_data"
    },
    {
     "data": {
      "text/markdown": [
       "<span style=\"color:#33cc99\">Solution:</span> \n",
       "```python\n",
       "def get_expected_cost(beds, baths, has_basement):\n",
       "    value = 80000 + 30000 * beds + 10000 * baths + 40000 * has_basement\n",
       "    return value\n",
       "\n",
       "```"
      ],
      "text/plain": [
       "Solution: \n",
       "```python\n",
       "def get_expected_cost(beds, baths, has_basement):\n",
       "    value = 80000 + 30000 * beds + 10000 * baths + 40000 * has_basement\n",
       "    return value\n",
       "\n",
       "```"
      ]
     },
     "metadata": {},
     "output_type": "display_data"
    }
   ],
   "source": [
    "# Uncomment to see a hint\n",
    "q3.hint()\n",
    "\n",
    "# Uncomment to view the solution\n",
    "q3.solution()"
   ]
  },
  {
   "cell_type": "markdown",
   "id": "826a4344",
   "metadata": {
    "papermill": {
     "duration": 0.007781,
     "end_time": "2022-11-01T14:03:31.924428",
     "exception": false,
     "start_time": "2022-11-01T14:03:31.916647",
     "status": "completed"
    },
    "tags": []
   },
   "source": [
    "# Question 4\n",
    "\n",
    "We'll continue our study of boolean arithmetic.  For this question, your task is to provide a description of what happpens when you add booleans. \n",
    "\n",
    "Use the next code cell for your investigation.  Feel free to add or remove any lines of code - use it as your workspace!"
   ]
  },
  {
   "cell_type": "code",
   "execution_count": 9,
   "id": "c83c327f",
   "metadata": {
    "execution": {
     "iopub.execute_input": "2022-11-01T14:03:31.942239Z",
     "iopub.status.busy": "2022-11-01T14:03:31.941814Z",
     "iopub.status.idle": "2022-11-01T14:03:31.948205Z",
     "shell.execute_reply": "2022-11-01T14:03:31.946916Z"
    },
    "papermill": {
     "duration": 0.018451,
     "end_time": "2022-11-01T14:03:31.950743",
     "exception": false,
     "start_time": "2022-11-01T14:03:31.932292",
     "status": "completed"
    },
    "tags": []
   },
   "outputs": [
    {
     "name": "stdout",
     "output_type": "stream",
     "text": [
      "0\n",
      "1\n",
      "1\n",
      "2\n",
      "3\n"
     ]
    }
   ],
   "source": [
    "print(False + False)\n",
    "print(True + False)\n",
    "print(False + True)\n",
    "print(True + True)\n",
    "print(False + True + True + True)"
   ]
  },
  {
   "cell_type": "markdown",
   "id": "fb11db4d",
   "metadata": {
    "papermill": {
     "duration": 0.008294,
     "end_time": "2022-11-01T14:03:31.967188",
     "exception": false,
     "start_time": "2022-11-01T14:03:31.958894",
     "status": "completed"
    },
    "tags": []
   },
   "source": [
    "Once you have an answer, run the code cell below to see the solution.  Viewing the solution will give you credit for answering the problem."
   ]
  },
  {
   "cell_type": "code",
   "execution_count": 10,
   "id": "0ef92095",
   "metadata": {
    "execution": {
     "iopub.execute_input": "2022-11-01T14:03:31.986601Z",
     "iopub.status.busy": "2022-11-01T14:03:31.986170Z",
     "iopub.status.idle": "2022-11-01T14:03:31.995559Z",
     "shell.execute_reply": "2022-11-01T14:03:31.994422Z"
    },
    "papermill": {
     "duration": 0.021919,
     "end_time": "2022-11-01T14:03:31.997807",
     "exception": false,
     "start_time": "2022-11-01T14:03:31.975888",
     "status": "completed"
    },
    "tags": []
   },
   "outputs": [
    {
     "data": {
      "application/javascript": [
       "parent.postMessage({\"jupyterEvent\": \"custom.exercise_interaction\", \"data\": {\"outcomeType\": 1, \"valueTowardsCompletion\": 0.2, \"interactionType\": 1, \"questionType\": 4, \"questionId\": \"4_AddingBooleans\", \"learnToolsVersion\": \"0.3.4\", \"failureMessage\": \"\", \"exceptionClass\": \"\", \"trace\": \"\"}}, \"*\")"
      ],
      "text/plain": [
       "<IPython.core.display.Javascript object>"
      ]
     },
     "metadata": {},
     "output_type": "display_data"
    },
    {
     "data": {
      "text/markdown": [
       "<span style=\"color:#33cc33\">Correct:</span> \n",
       "\n",
       "When you add booleans, adding `False` is equivalent to adding 0, and adding `True` is equivalent to adding 1."
      ],
      "text/plain": [
       "Correct: \n",
       "\n",
       "When you add booleans, adding `False` is equivalent to adding 0, and adding `True` is equivalent to adding 1."
      ]
     },
     "metadata": {},
     "output_type": "display_data"
    }
   ],
   "source": [
    "# Check your answer (Run this code cell to receive credit!)\n",
    "q4.check()"
   ]
  },
  {
   "cell_type": "markdown",
   "id": "d40cadff",
   "metadata": {
    "papermill": {
     "duration": 0.008036,
     "end_time": "2022-11-01T14:03:32.014199",
     "exception": false,
     "start_time": "2022-11-01T14:03:32.006163",
     "status": "completed"
    },
    "tags": []
   },
   "source": [
    "# 🌶️ Question 5\n",
    "\n",
    "You own an online shop where you sell rings with custom engravings.  You offer both gold plated and solid gold rings.\n",
    "- Gold plated rings have a base cost of \\\\$50, and you charge \\\\$7 per engraved unit.  \n",
    "- Solid gold rings have a base cost of \\\\$100, and you charge \\\\$10 per engraved unit.\n",
    "- Spaces and punctuation are counted as engraved units.\n",
    "\n",
    "Write a function `cost_of_project()` that takes two arguments:\n",
    "- `engraving` - a Python string with the text of the engraving\n",
    "- `solid_gold` - a Boolean that indicates whether the ring is solid gold\n",
    "\n",
    "It should return the cost of the project.  This question should be fairly challenging, and you may need a hint."
   ]
  },
  {
   "cell_type": "code",
   "execution_count": 11,
   "id": "6a143c30",
   "metadata": {
    "execution": {
     "iopub.execute_input": "2022-11-01T14:03:32.033388Z",
     "iopub.status.busy": "2022-11-01T14:03:32.032968Z",
     "iopub.status.idle": "2022-11-01T14:03:32.045279Z",
     "shell.execute_reply": "2022-11-01T14:03:32.043910Z"
    },
    "papermill": {
     "duration": 0.02526,
     "end_time": "2022-11-01T14:03:32.047847",
     "exception": false,
     "start_time": "2022-11-01T14:03:32.022587",
     "status": "completed"
    },
    "tags": []
   },
   "outputs": [
    {
     "name": "stdout",
     "output_type": "stream",
     "text": [
      "The Engraving will be  Charlie+Denver\n",
      "The Engraving will be  08/10/2000\n",
      "The Engraving will be  Adrian\n",
      "The Engraving will be  Ana\n"
     ]
    },
    {
     "data": {
      "application/javascript": [
       "parent.postMessage({\"jupyterEvent\": \"custom.exercise_interaction\", \"data\": {\"outcomeType\": 1, \"valueTowardsCompletion\": 0.2, \"interactionType\": 1, \"questionType\": 2, \"questionId\": \"5_CustomEngravings\", \"learnToolsVersion\": \"0.3.4\", \"failureMessage\": \"\", \"exceptionClass\": \"\", \"trace\": \"\"}}, \"*\")"
      ],
      "text/plain": [
       "<IPython.core.display.Javascript object>"
      ]
     },
     "metadata": {},
     "output_type": "display_data"
    },
    {
     "data": {
      "text/markdown": [
       "<span style=\"color:#33cc33\">Correct</span>"
      ],
      "text/plain": [
       "Correct"
      ]
     },
     "metadata": {},
     "output_type": "display_data"
    }
   ],
   "source": [
    "def cost_of_project(engraving, solid_gold):\n",
    "    if (solid_gold == True):\n",
    "        cost = 100 + (10 * len(engraving))\n",
    "    elif (solid_gold == False):\n",
    "        cost = 50 + (7 * len(engraving))\n",
    "    print('The Engraving will be ', engraving)\n",
    "    return cost\n",
    "\n",
    "# Check your answer\n",
    "q5.check()"
   ]
  },
  {
   "cell_type": "code",
   "execution_count": 12,
   "id": "b0186571",
   "metadata": {
    "execution": {
     "iopub.execute_input": "2022-11-01T14:03:32.066990Z",
     "iopub.status.busy": "2022-11-01T14:03:32.066572Z",
     "iopub.status.idle": "2022-11-01T14:03:32.079126Z",
     "shell.execute_reply": "2022-11-01T14:03:32.077936Z"
    },
    "papermill": {
     "duration": 0.025251,
     "end_time": "2022-11-01T14:03:32.081811",
     "exception": false,
     "start_time": "2022-11-01T14:03:32.056560",
     "status": "completed"
    },
    "tags": []
   },
   "outputs": [
    {
     "data": {
      "application/javascript": [
       "parent.postMessage({\"jupyterEvent\": \"custom.exercise_interaction\", \"data\": {\"interactionType\": 2, \"questionType\": 2, \"questionId\": \"5_CustomEngravings\", \"learnToolsVersion\": \"0.3.4\", \"valueTowardsCompletion\": 0.0, \"failureMessage\": \"\", \"exceptionClass\": \"\", \"trace\": \"\", \"outcomeType\": 4}}, \"*\")"
      ],
      "text/plain": [
       "<IPython.core.display.Javascript object>"
      ]
     },
     "metadata": {},
     "output_type": "display_data"
    },
    {
     "data": {
      "text/markdown": [
       "<span style=\"color:#3366cc\">Hint:</span> There are two options - either the project uses solid gold or does not.  With this in mind, you can structure your solution like this: `cost = solid_gold * ____ + (not_solid_gold) * ____`.  You need to figure out how to fill in the blanks. Also, remember that:\n",
       "- If `solid_gold = True`, then `(not solid_gold) = False`, and if `solid_gold = False`, then `(not solid_gold) = True`.\n",
       "- Multiplying an integer by `True` is equivalent to multiplying it by 1, and multiplying an integer by `False` is equivalent to multiplying it by 0."
      ],
      "text/plain": [
       "Hint: There are two options - either the project uses solid gold or does not.  With this in mind, you can structure your solution like this: `cost = solid_gold * ____ + (not_solid_gold) * ____`.  You need to figure out how to fill in the blanks. Also, remember that:\n",
       "- If `solid_gold = True`, then `(not solid_gold) = False`, and if `solid_gold = False`, then `(not solid_gold) = True`.\n",
       "- Multiplying an integer by `True` is equivalent to multiplying it by 1, and multiplying an integer by `False` is equivalent to multiplying it by 0."
      ]
     },
     "metadata": {},
     "output_type": "display_data"
    },
    {
     "data": {
      "application/javascript": [
       "parent.postMessage({\"jupyterEvent\": \"custom.exercise_interaction\", \"data\": {\"interactionType\": 3, \"questionType\": 2, \"questionId\": \"5_CustomEngravings\", \"learnToolsVersion\": \"0.3.4\", \"valueTowardsCompletion\": 0.0, \"failureMessage\": \"\", \"exceptionClass\": \"\", \"trace\": \"\", \"outcomeType\": 4}}, \"*\")"
      ],
      "text/plain": [
       "<IPython.core.display.Javascript object>"
      ]
     },
     "metadata": {},
     "output_type": "display_data"
    },
    {
     "data": {
      "text/markdown": [
       "<span style=\"color:#33cc99\">Solution:</span> \n",
       "```python\n",
       "def cost_of_project(engraving, solid_gold):\n",
       "    cost = solid_gold * (100 + 10 * len(engraving)) + (not solid_gold) * (50 + 7 * len(engraving))\n",
       "    return cost\n",
       "\n",
       "```"
      ],
      "text/plain": [
       "Solution: \n",
       "```python\n",
       "def cost_of_project(engraving, solid_gold):\n",
       "    cost = solid_gold * (100 + 10 * len(engraving)) + (not solid_gold) * (50 + 7 * len(engraving))\n",
       "    return cost\n",
       "\n",
       "```"
      ]
     },
     "metadata": {},
     "output_type": "display_data"
    }
   ],
   "source": [
    "# Uncomment to see a hint\n",
    "q5.hint()\n",
    "\n",
    "# Uncomment to view the solution\n",
    "q5.solution()"
   ]
  },
  {
   "cell_type": "markdown",
   "id": "e544ec9f",
   "metadata": {
    "papermill": {
     "duration": 0.008841,
     "end_time": "2022-11-01T14:03:32.100329",
     "exception": false,
     "start_time": "2022-11-01T14:03:32.091488",
     "status": "completed"
    },
    "tags": []
   },
   "source": [
    "Run the next code cell to calculate the cost of engraving `Charlie+Denver` on a solid gold ring."
   ]
  },
  {
   "cell_type": "code",
   "execution_count": 13,
   "id": "6121d911",
   "metadata": {
    "execution": {
     "iopub.execute_input": "2022-11-01T14:03:32.120418Z",
     "iopub.status.busy": "2022-11-01T14:03:32.120023Z",
     "iopub.status.idle": "2022-11-01T14:03:32.125849Z",
     "shell.execute_reply": "2022-11-01T14:03:32.124446Z"
    },
    "papermill": {
     "duration": 0.019361,
     "end_time": "2022-11-01T14:03:32.128866",
     "exception": false,
     "start_time": "2022-11-01T14:03:32.109505",
     "status": "completed"
    },
    "tags": []
   },
   "outputs": [
    {
     "name": "stdout",
     "output_type": "stream",
     "text": [
      "The Engraving will be  Charlie+Denver\n",
      "240\n"
     ]
    }
   ],
   "source": [
    "project_one = cost_of_project(\"Charlie+Denver\", True)\n",
    "print(project_one)"
   ]
  },
  {
   "cell_type": "markdown",
   "id": "a528de04",
   "metadata": {
    "papermill": {
     "duration": 0.009635,
     "end_time": "2022-11-01T14:03:32.149508",
     "exception": false,
     "start_time": "2022-11-01T14:03:32.139873",
     "status": "completed"
    },
    "tags": []
   },
   "source": [
    "Use the next code cell to calculate the cost of engraving `08/10/2000` on a gold plated ring."
   ]
  },
  {
   "cell_type": "code",
   "execution_count": 14,
   "id": "ba1d19ce",
   "metadata": {
    "execution": {
     "iopub.execute_input": "2022-11-01T14:03:32.169753Z",
     "iopub.status.busy": "2022-11-01T14:03:32.169315Z",
     "iopub.status.idle": "2022-11-01T14:03:32.175050Z",
     "shell.execute_reply": "2022-11-01T14:03:32.173669Z"
    },
    "papermill": {
     "duration": 0.019597,
     "end_time": "2022-11-01T14:03:32.178496",
     "exception": false,
     "start_time": "2022-11-01T14:03:32.158899",
     "status": "completed"
    },
    "tags": []
   },
   "outputs": [
    {
     "name": "stdout",
     "output_type": "stream",
     "text": [
      "The Engraving will be  08/10/2000\n",
      "120\n"
     ]
    }
   ],
   "source": [
    "project_two = cost_of_project(\"08/10/2000\", False)\n",
    "print(project_two)"
   ]
  },
  {
   "cell_type": "markdown",
   "id": "aa290a3c",
   "metadata": {
    "papermill": {
     "duration": 0.010147,
     "end_time": "2022-11-01T14:03:32.199216",
     "exception": false,
     "start_time": "2022-11-01T14:03:32.189069",
     "status": "completed"
    },
    "tags": []
   },
   "source": [
    "# Keep going\n",
    "\n",
    "Continue to the next lesson to **[learn about conditions and conditional statements](https://www.kaggle.com/alexisbcook/conditions-and-conditional-statements)**."
   ]
  },
  {
   "cell_type": "markdown",
   "id": "382d99a6",
   "metadata": {
    "papermill": {
     "duration": 0.009857,
     "end_time": "2022-11-01T14:03:32.219594",
     "exception": false,
     "start_time": "2022-11-01T14:03:32.209737",
     "status": "completed"
    },
    "tags": []
   },
   "source": [
    "---\n",
    "\n",
    "\n",
    "\n",
    "\n",
    "*Have questions or comments? Visit the [course discussion forum](https://www.kaggle.com/learn/intro-to-programming/discussion) to chat with other learners.*"
   ]
  }
 ],
 "metadata": {
  "kernelspec": {
   "display_name": "Python 3",
   "language": "python",
   "name": "python3"
  },
  "language_info": {
   "codemirror_mode": {
    "name": "ipython",
    "version": 3
   },
   "file_extension": ".py",
   "mimetype": "text/x-python",
   "name": "python",
   "nbconvert_exporter": "python",
   "pygments_lexer": "ipython3",
   "version": "3.7.12"
  },
  "papermill": {
   "default_parameters": {},
   "duration": 10.149697,
   "end_time": "2022-11-01T14:03:32.851596",
   "environment_variables": {},
   "exception": null,
   "input_path": "__notebook__.ipynb",
   "output_path": "__notebook__.ipynb",
   "parameters": {},
   "start_time": "2022-11-01T14:03:22.701899",
   "version": "2.3.4"
  }
 },
 "nbformat": 4,
 "nbformat_minor": 5
}
